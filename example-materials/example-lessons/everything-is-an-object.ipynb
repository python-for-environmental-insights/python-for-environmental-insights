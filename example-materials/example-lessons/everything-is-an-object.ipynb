{
 "cells": [
  {
   "cell_type": "markdown",
   "id": "733c433e-a285-4402-a876-a5f310ae9334",
   "metadata": {
    "editable": true,
    "slideshow": {
     "slide_type": ""
    },
    "tags": []
   },
   "source": [
    "# Everything (in Python) is an object"
   ]
  },
  {
   "cell_type": "markdown",
   "id": "1eac36fe-34c1-4943-ac54-428f92ae8aa9",
   "metadata": {
    "editable": true,
    "slideshow": {
     "slide_type": ""
    },
    "tags": []
   },
   "source": [
    "Topics:\n",
    "\n",
    "- Objects\n",
    "- Libraries\n",
    "- Duck-typing\n",
    "\n",
    "Time: 10 minutes"
   ]
  },
  {
   "cell_type": "markdown",
   "id": "38b4af8b-67cd-4f2a-8594-125eceb16c41",
   "metadata": {},
   "source": [
    "## Objects"
   ]
  },
  {
   "cell_type": "markdown",
   "id": "733b737b-e58c-4c43-9ed5-38a16fa98ec5",
   "metadata": {},
   "source": [
    "By _object_ we mean a bundle of data.\n",
    "Sometimes the bundle is simple (such as a floating point number, e.g. `0.2`),\n",
    "and sometimes it's complicated, such as a dataframe.\n",
    "All object-oriented programming languages (of which Python is one) treat objects as the primary thing of interest,\n",
    "but Python takes it in an unusual direction."
   ]
  },
  {
   "cell_type": "markdown",
   "id": "bb8e6438-9a9a-4817-a395-fafa723a1c29",
   "metadata": {},
   "source": [
    "Data inside an object is one of:\n",
    "\n",
    "- Named data, called a _property_, accessed as `object.property`\n",
    "- Numbered data, accessed via an _index_, accessed as `object[index]`\n",
    "- A function (often called a _method_ in the context of objects), accessed as `object.method`\n",
    "\n",
    "(It turns out Python actually uses properties for everything, but these are the names common in computer science.)"
   ]
  },
  {
   "cell_type": "code",
   "execution_count": 15,
   "id": "f0146d31",
   "metadata": {},
   "outputs": [
    {
     "name": "stdout",
     "output_type": "stream",
     "text": [
      "6.0\n",
      "200\n",
      "HELLO\n"
     ]
    }
   ],
   "source": [
    "# Make a complex number\n",
    "# Python uses `j` for the imaginary unit, which is the engineering standard\n",
    "complex_number_example = 12 + 6j\n",
    "\n",
    "# Grab the imaginary part of the complex number\n",
    "print( complex_number_example.imag )\n",
    "#                             ^^^^ property\n",
    "#       ^^^^^^^^^^^^^^^^^^^^^      object\n",
    "\n",
    "\n",
    "list_example = [\"a\", 200, complex_number_example]\n",
    "\n",
    "# Grab the value at index 1\n",
    "print( list_example[1] )\n",
    "#                   ^  index\n",
    "#      ^^^^^^^^^^^^    object\n",
    "\n",
    "string_example = \"hello\"\n",
    "\n",
    "print( string_example.upper() )\n",
    "#                     ^^^^^    method\n",
    "#      ^^^^^^^^^^^^^^          object"
   ]
  },
  {
   "cell_type": "markdown",
   "id": "332fc3bf",
   "metadata": {},
   "source": [
    "### Subobjects"
   ]
  },
  {
   "cell_type": "markdown",
   "id": "d900e0ab",
   "metadata": {},
   "source": [
    "You can _nest_ objects, as in set the value of a property on one object to itself be an object."
   ]
  },
  {
   "cell_type": "code",
   "execution_count": 20,
   "id": "b540f154-cc69-449e-b0ad-19e4329da1e8",
   "metadata": {},
   "outputs": [],
   "source": [
    "# `datetime` is a library that handles dates and times\n",
    "# We'll cover why we treat libraries like objects in a moment\n",
    "import datetime\n",
    "date_and_time_then = datetime.datetime.now()\n",
    "#                                     ^^^       method on the sub-object\n",
    "#                            ^^^^^^^^           (class) sub-object on the object\n",
    "#                   ^^^^^^^^                    (library) object"
   ]
  },
  {
   "cell_type": "markdown",
   "id": "6d726804-8ad0-444b-8df0-f9f55017bfb3",
   "metadata": {},
   "source": [
    "This function itself returned an object, now stored in `date_and_time_now`.\n",
    "Note that the property values we set at the time we called the function that made the object:"
   ]
  },
  {
   "cell_type": "code",
   "execution_count": 21,
   "id": "7beda928-643a-4845-8fdb-dce97cd67560",
   "metadata": {},
   "outputs": [
    {
     "data": {
      "text/plain": [
       "744933"
      ]
     },
     "execution_count": 21,
     "metadata": {},
     "output_type": "execute_result"
    }
   ],
   "source": [
    "date_and_time_then.microsecond"
   ]
  },
  {
   "cell_type": "markdown",
   "id": "5df49eb4-e3c7-4c70-901b-a1d4cf25c5d4",
   "metadata": {},
   "source": [
    "How do we know which properties are available?"
   ]
  },
  {
   "cell_type": "code",
   "execution_count": 10,
   "id": "330720fb-0e58-4130-ab24-357491b4557a",
   "metadata": {},
   "outputs": [
    {
     "data": {
      "text/plain": [
       "6"
      ]
     },
     "execution_count": 10,
     "metadata": {},
     "output_type": "execute_result"
    }
   ],
   "source": [
    "# Incomplete. Here to show tab completion\n",
    "date_and_time_then."
   ]
  },
  {
   "cell_type": "markdown",
   "id": "31dc5ac0-2990-4f79-a570-9cabc0e7f0e9",
   "metadata": {},
   "source": [
    "We'll mention \"special\" properties later, which are ones with names that start and end with double-underscores. Jupyter hides these from you (because you almost certainly don't want to access them directly).\n",
    "If you really want to see them, pass the object to the `dir` function and it will give you a list of all defined properties."
   ]
  },
  {
   "cell_type": "code",
   "execution_count": 15,
   "id": "2b166612-9411-40af-a810-7199765e99c0",
   "metadata": {},
   "outputs": [
    {
     "data": {
      "text/plain": [
       "['__add__',\n",
       " '__class__',\n",
       " '__delattr__',\n",
       " '__dir__',\n",
       " '__doc__',\n",
       " '__eq__',\n",
       " '__format__',\n",
       " '__ge__',\n",
       " '__getattribute__',\n",
       " '__getstate__',\n",
       " '__gt__',\n",
       " '__hash__',\n",
       " '__init__',\n",
       " '__init_subclass__',\n",
       " '__le__',\n",
       " '__lt__',\n",
       " '__ne__',\n",
       " '__new__',\n",
       " '__radd__',\n",
       " '__reduce__',\n",
       " '__reduce_ex__',\n",
       " '__repr__',\n",
       " '__rsub__',\n",
       " '__setattr__',\n",
       " '__sizeof__',\n",
       " '__str__',\n",
       " '__sub__',\n",
       " '__subclasshook__',\n",
       " 'astimezone',\n",
       " 'combine',\n",
       " 'ctime',\n",
       " 'date',\n",
       " 'day',\n",
       " 'dst',\n",
       " 'fold',\n",
       " 'fromisocalendar',\n",
       " 'fromisoformat',\n",
       " 'fromordinal',\n",
       " 'fromtimestamp',\n",
       " 'hour',\n",
       " 'isocalendar',\n",
       " 'isoformat',\n",
       " 'isoweekday',\n",
       " 'max',\n",
       " 'microsecond',\n",
       " 'min',\n",
       " 'minute',\n",
       " 'month',\n",
       " 'now',\n",
       " 'replace',\n",
       " 'resolution',\n",
       " 'second',\n",
       " 'strftime',\n",
       " 'strptime',\n",
       " 'time',\n",
       " 'timestamp',\n",
       " 'timetuple',\n",
       " 'timetz',\n",
       " 'today',\n",
       " 'toordinal',\n",
       " 'tzinfo',\n",
       " 'tzname',\n",
       " 'utcfromtimestamp',\n",
       " 'utcnow',\n",
       " 'utcoffset',\n",
       " 'utctimetuple',\n",
       " 'weekday',\n",
       " 'year']"
      ]
     },
     "execution_count": 15,
     "metadata": {},
     "output_type": "execute_result"
    }
   ],
   "source": [
    "# It's a long output, and you generally don't need to do it\n",
    "# dir(date_and_time_then)"
   ]
  },
  {
   "cell_type": "markdown",
   "id": "550399f6-bea3-45fa-897d-360996369779",
   "metadata": {},
   "source": [
    "### How do we know what it does?"
   ]
  },
  {
   "cell_type": "markdown",
   "id": "c9ae594a-82fe-49e7-bd0d-26873c3e6aa4",
   "metadata": {},
   "source": [
    "Use shift+tab to access the _docstring_ for an object.\n",
    "This is a string provided by the original authors of the code where they write down what something should do or be.\n",
    "It's set by the class that makes the object."
   ]
  },
  {
   "cell_type": "markdown",
   "id": "47937f3c-270f-4382-9e2f-4640e0ec9fbf",
   "metadata": {},
   "source": [
    "## Classes"
   ]
  },
  {
   "cell_type": "markdown",
   "id": "647c73f3-dec5-4de9-8353-f6c713720d5d",
   "metadata": {},
   "source": [
    "A _class_ (in general computer science) is a common specification of the data (and methods) that must be present on an object to count as being a member of that class.\n",
    "That object is then called an _instance_ of that class.\n"
   ]
  },
  {
   "cell_type": "markdown",
   "id": "8d787cf3",
   "metadata": {},
   "source": [
    "\n",
    "An example class in python is `list`.\n",
    "All lists in Python have a method that returns the number of entries in the list.\n",
    "It's one of the \"secret\" methods:"
   ]
  },
  {
   "cell_type": "code",
   "execution_count": null,
   "id": "d3736434-b980-4ccd-bcfd-15c4c920e5e4",
   "metadata": {},
   "outputs": [
    {
     "data": {
      "text/plain": [
       "5"
      ]
     },
     "execution_count": 17,
     "metadata": {},
     "output_type": "execute_result"
    }
   ],
   "source": [
    "example_list = [1,2,3,4,5]\n",
    "# Don't do it like this, see the next cell, this is just an example\n",
    "example_list.__len__()"
   ]
  },
  {
   "cell_type": "code",
   "execution_count": 18,
   "id": "dea10b0c-78cb-4717-82e3-521e076777b4",
   "metadata": {},
   "outputs": [
    {
     "data": {
      "text/plain": [
       "5"
      ]
     },
     "execution_count": 18,
     "metadata": {},
     "output_type": "execute_result"
    }
   ],
   "source": [
    "# Do it like this\n",
    "len(example_list)"
   ]
  },
  {
   "cell_type": "markdown",
   "id": "af9fb925-12d8-4c22-955f-462a8f2f5139",
   "metadata": {},
   "source": [
    "Finding the length of something is so common an operation that it has the special keyword `len`,\n",
    "and it makes the code much easier to read when you use `len`.\n",
    "Under-the-hood, all `len` is doing is accessing the `__len__()` method."
   ]
  },
  {
   "cell_type": "markdown",
   "id": "3db8582d-afab-42ac-b01e-4943230b6eeb",
   "metadata": {},
   "source": [
    "But other things also have lengths! For example, strings:"
   ]
  },
  {
   "cell_type": "code",
   "execution_count": 22,
   "id": "5b457cb5-164c-4fbe-9fbe-253ccf68150e",
   "metadata": {},
   "outputs": [
    {
     "data": {
      "text/plain": [
       "61"
      ]
     },
     "execution_count": 22,
     "metadata": {},
     "output_type": "execute_result"
    }
   ],
   "source": [
    "len(\"The length of a string is actually a really deep rabbit-hole.\")"
   ]
  },
  {
   "cell_type": "markdown",
   "id": "dcfe259e-4894-48c6-b43a-d1a40f624506",
   "metadata": {},
   "source": [
    "Even though that have some overlap there are differences, e.g., strings have a `.upper()` method that puts them into upper-case.\n",
    "This doesn't make sense for lists of arbitrary data."
   ]
  },
  {
   "cell_type": "markdown",
   "id": "f6298485-3021-45cf-9580-ce1933464021",
   "metadata": {},
   "source": [
    "A class (in Python) is a means of creating objects that conforms to such a specification."
   ]
  },
  {
   "cell_type": "code",
   "execution_count": 28,
   "id": "ba4decdb-5be9-4c87-8b23-05c7b8d43d71",
   "metadata": {},
   "outputs": [
    {
     "data": {
      "text/plain": [
       "array([[1, 0],\n",
       "       [0, 1]])"
      ]
     },
     "execution_count": 28,
     "metadata": {},
     "output_type": "execute_result"
    }
   ],
   "source": [
    "# numpy is \"numeric python\", and has a standard abbreviation to `np`\n",
    "import numpy as np\n",
    "\n",
    "# Pass np.array a list of lists, which it interprets as a \"an array\", which in this case is a 2x2 matrix\n",
    "identity_matrix = np.array([[1,0], [0,1]])\n",
    "\n",
    "# It even knows how to print it nicely, again because of a property created by the class\n",
    "identity_matrix"
   ]
  },
  {
   "cell_type": "code",
   "execution_count": 35,
   "id": "5e1da476-2de8-46eb-9841-6dc6c25014d8",
   "metadata": {},
   "outputs": [
    {
     "data": {
      "text/plain": [
       "2"
      ]
     },
     "execution_count": 35,
     "metadata": {},
     "output_type": "execute_result"
    }
   ],
   "source": [
    "# The original list `[[1,0], [0,1]]` doesn't have `.trace()` method\n",
    "identity_matrix.trace()"
   ]
  },
  {
   "cell_type": "markdown",
   "id": "c1b5256b-9aba-4809-b080-7409c2b397d9",
   "metadata": {},
   "source": [
    "### Contrast: Java"
   ]
  },
  {
   "cell_type": "markdown",
   "id": "c08f5e1a-dd0f-4c30-80e5-5b8ceae6d709",
   "metadata": {},
   "source": [
    "Java is another object-oriented language.\n",
    "You can't just \"define a function\" in Java,\n",
    "because all data must belong to some object.\n",
    "\n",
    "Python \"solves\" this by making functions into a type of object."
   ]
  },
  {
   "cell_type": "code",
   "execution_count": 32,
   "id": "72988c46-4417-4012-a38f-aa74d5de5ec3",
   "metadata": {},
   "outputs": [
    {
     "name": "stdout",
     "output_type": "stream",
     "text": [
      "Return a copy of the string converted to uppercase.\n"
     ]
    }
   ],
   "source": [
    "# remember that string_example.upper is a method on string_example\n",
    "# __doc__ stores the docstring of an object\n",
    "print(string_example.upper.__doc__)"
   ]
  },
  {
   "cell_type": "markdown",
   "id": "4b9e6d9e",
   "metadata": {},
   "source": [
    "## Libraries"
   ]
  },
  {
   "cell_type": "markdown",
   "id": "1fb589a3",
   "metadata": {},
   "source": [
    "A _library_ is code designed to be re-used between programs.\n",
    "Python distinguishes between:\n",
    "\n",
    "- _modules_ (single python files) \n",
    "- _packages_ (folders of modules, laid out in a certain way)\n",
    "\n",
    "Since that difference won't matter to us we're going to just say \"library\" or \"package\"."
   ]
  },
  {
   "cell_type": "markdown",
   "id": "4b4422dd",
   "metadata": {},
   "source": [
    "### Importing"
   ]
  },
  {
   "cell_type": "markdown",
   "id": "2d334f0c",
   "metadata": {},
   "source": [
    "When you import a library two things happen:\n",
    "\n",
    "- Python finds the library, and _runs the code inside it_\n",
    "- Python builds a big object of things created by running that code, and gives that object the name of library"
   ]
  },
  {
   "cell_type": "code",
   "execution_count": 37,
   "id": "d42ab06b",
   "metadata": {},
   "outputs": [
    {
     "data": {
      "text/plain": [
       "['BPF',\n",
       " 'LOG4',\n",
       " 'NV_MAGICCONST',\n",
       " 'RECIP_BPF',\n",
       " 'Random',\n",
       " 'SG_MAGICCONST',\n",
       " 'SystemRandom',\n",
       " 'TWOPI',\n",
       " '_ONE',\n",
       " '_Sequence',\n",
       " '_Set',\n",
       " '__all__',\n",
       " '__builtins__',\n",
       " '__cached__',\n",
       " '__doc__',\n",
       " '__file__',\n",
       " '__loader__',\n",
       " '__name__',\n",
       " '__package__',\n",
       " '__spec__',\n",
       " '_accumulate',\n",
       " '_acos',\n",
       " '_bisect',\n",
       " '_ceil',\n",
       " '_cos',\n",
       " '_e',\n",
       " '_exp',\n",
       " '_floor',\n",
       " '_index',\n",
       " '_inst',\n",
       " '_isfinite',\n",
       " '_log',\n",
       " '_os',\n",
       " '_pi',\n",
       " '_random',\n",
       " '_repeat',\n",
       " '_sha512',\n",
       " '_sin',\n",
       " '_sqrt',\n",
       " '_test',\n",
       " '_test_generator',\n",
       " '_urandom',\n",
       " '_warn',\n",
       " 'betavariate',\n",
       " 'choice',\n",
       " 'choices',\n",
       " 'expovariate',\n",
       " 'gammavariate',\n",
       " 'gauss',\n",
       " 'getrandbits',\n",
       " 'getstate',\n",
       " 'lognormvariate',\n",
       " 'normalvariate',\n",
       " 'paretovariate',\n",
       " 'randbytes',\n",
       " 'randint',\n",
       " 'random',\n",
       " 'randrange',\n",
       " 'sample',\n",
       " 'seed',\n",
       " 'setstate',\n",
       " 'shuffle',\n",
       " 'triangular',\n",
       " 'uniform',\n",
       " 'vonmisesvariate',\n",
       " 'weibullvariate']"
      ]
     },
     "execution_count": 37,
     "metadata": {},
     "output_type": "execute_result"
    }
   ],
   "source": [
    "# the `random` library generates random data for you.\n",
    "import random\n",
    "\n",
    "dir(random)"
   ]
  },
  {
   "cell_type": "markdown",
   "id": "b7d0a141",
   "metadata": {},
   "source": [
    "It's considered bad manners to have code in your library that does anything apart from set up definitions for the user.\n",
    "Running that code still takes time though,\n",
    "and it's why some libraries take longer to import than others."
   ]
  },
  {
   "cell_type": "markdown",
   "id": "f48ef5fe",
   "metadata": {},
   "source": [
    "Aside: You can go and look at these Python files!\n",
    "They're very software-engineering in style, but they're written in Python.\n",
    "\n",
    "Some packages also include other software that can't be written in Python (such as fast, compiled subroutines for pandas), but the overwhelming majority of Python packages are written in Python."
   ]
  },
  {
   "cell_type": "markdown",
   "id": "5bdc20b7",
   "metadata": {},
   "source": [
    "After importing a library what you, the user, actually get is an object."
   ]
  },
  {
   "cell_type": "markdown",
   "id": "382926fc",
   "metadata": {},
   "source": [
    "### Installing"
   ]
  },
  {
   "cell_type": "markdown",
   "id": "454defdf",
   "metadata": {},
   "source": [
    "Some libraries come with Python, such as `random` and `datetime`.\n",
    "These are considered so essential to using Python that they're now included as standard."
   ]
  },
  {
   "cell_type": "markdown",
   "id": "e7cbb0d1",
   "metadata": {},
   "source": [
    "Anything not included needs to be downloaded,\n",
    "and in some cases extra steps need to be run to have make the library work.\n",
    "\n",
    "`pip` (the Package Installer for Python) is the **official** tool for this.\n",
    "It does the downloaded _and_ the extra steps for you.\n",
    "We'll touch on virtual environments at the end of the day,\n",
    "which are a way to have isolated instances of Python+pip on your computer.\n",
    "\n",
    "Pip downloads packages for a service called PyPI.\n",
    "Anyone can upload packages (I've uploaded three).\n",
    "Python has succeeded by being generally easy to learn, and easy to build packages for."
   ]
  },
  {
   "cell_type": "markdown",
   "id": "909fa3b0",
   "metadata": {},
   "source": [
    "## Duck-typing"
   ]
  },
  {
   "cell_type": "markdown",
   "id": "9d5aa783",
   "metadata": {},
   "source": [
    "Python is, by design, permissive."
   ]
  },
  {
   "cell_type": "markdown",
   "id": "63053be3",
   "metadata": {},
   "source": [
    "For example the following function describes itself as adding two numbers together."
   ]
  },
  {
   "cell_type": "code",
   "execution_count": 7,
   "id": "501c6dad",
   "metadata": {},
   "outputs": [],
   "source": [
    "def add(a,b):\n",
    "    \"\"\"Add two numbers together.\"\"\"\n",
    "\n",
    "    # The plus symbol is actually shorthand for a secret property on the object to the left of the symbol\n",
    "    # Just like `len` actually ends up calling the `__len__` method on an object\n",
    "    return a+b"
   ]
  },
  {
   "cell_type": "markdown",
   "id": "91bf3ab0",
   "metadata": {},
   "source": [
    "That function is well-defined in Python, the cell ran, we got no errors.\n",
    "We will continue to not get any errors for as long as `a` and `b` have a compatible definition of addition."
   ]
  },
  {
   "cell_type": "code",
   "execution_count": 8,
   "id": "a1dd41c4",
   "metadata": {},
   "outputs": [
    {
     "data": {
      "text/plain": [
       "5"
      ]
     },
     "execution_count": 8,
     "metadata": {},
     "output_type": "execute_result"
    }
   ],
   "source": [
    "# Add two integers\n",
    "add(2,3)"
   ]
  },
  {
   "cell_type": "code",
   "execution_count": 9,
   "id": "f3aff2bb",
   "metadata": {},
   "outputs": [
    {
     "data": {
      "text/plain": [
       "5.5"
      ]
     },
     "execution_count": 9,
     "metadata": {},
     "output_type": "execute_result"
    }
   ],
   "source": [
    "# Add an integer to a float\n",
    "add(2,3.5)"
   ]
  },
  {
   "cell_type": "code",
   "execution_count": 11,
   "id": "fe5003aa",
   "metadata": {},
   "outputs": [
    {
     "data": {
      "text/plain": [
       "[1, 2, 3]"
      ]
     },
     "execution_count": 11,
     "metadata": {},
     "output_type": "execute_result"
    }
   ],
   "source": [
    "# Add two lists\n",
    "add([1,2],[3])"
   ]
  },
  {
   "cell_type": "code",
   "execution_count": 12,
   "id": "5b5bd383",
   "metadata": {},
   "outputs": [
    {
     "data": {
      "text/plain": [
       "'Hello world'"
      ]
     },
     "execution_count": 12,
     "metadata": {},
     "output_type": "execute_result"
    }
   ],
   "source": [
    "# Add two strings\n",
    "add(\"Hello \", \"world\")"
   ]
  },
  {
   "cell_type": "code",
   "execution_count": 13,
   "id": "0bba6558",
   "metadata": {},
   "outputs": [
    {
     "ename": "TypeError",
     "evalue": "unsupported operand type(s) for +: 'int' and 'str'",
     "output_type": "error",
     "traceback": [
      "\u001b[0;31m---------------------------------------------------------------------------\u001b[0m",
      "\u001b[0;31mTypeError\u001b[0m                                 Traceback (most recent call last)",
      "Cell \u001b[0;32mIn[13], line 2\u001b[0m\n\u001b[1;32m      1\u001b[0m \u001b[38;5;66;03m# Add an integer and a string\u001b[39;00m\n\u001b[0;32m----> 2\u001b[0m \u001b[43madd\u001b[49m\u001b[43m(\u001b[49m\u001b[38;5;241;43m2\u001b[39;49m\u001b[43m,\u001b[49m\u001b[43m \u001b[49m\u001b[38;5;124;43m\"\u001b[39;49m\u001b[38;5;124;43m?\u001b[39;49m\u001b[38;5;124;43m\"\u001b[39;49m\u001b[43m)\u001b[49m\n",
      "Cell \u001b[0;32mIn[7], line 3\u001b[0m, in \u001b[0;36madd\u001b[0;34m(a, b)\u001b[0m\n\u001b[1;32m      1\u001b[0m \u001b[38;5;28;01mdef\u001b[39;00m \u001b[38;5;21madd\u001b[39m(a,b):\n\u001b[1;32m      2\u001b[0m \u001b[38;5;250m    \u001b[39m\u001b[38;5;124;03m\"\"\"Add a to b as a+b.\"\"\"\u001b[39;00m\n\u001b[0;32m----> 3\u001b[0m     \u001b[38;5;28;01mreturn\u001b[39;00m \u001b[43ma\u001b[49m\u001b[38;5;241;43m+\u001b[39;49m\u001b[43mb\u001b[49m\n",
      "\u001b[0;31mTypeError\u001b[0m: unsupported operand type(s) for +: 'int' and 'str'"
     ]
    }
   ],
   "source": [
    "# Should error\n",
    "# Add an integer and a string\n",
    "add(2, \"?\")"
   ]
  },
  {
   "cell_type": "markdown",
   "id": "a6873958",
   "metadata": {},
   "source": [
    "Python let us define a function that can fail,\n",
    "and trusted that we wouldn't perform the actions that lead to failure.\n",
    "This permissiveness makes Python code quick to write, and quick to fail in unexpected conditions."
   ]
  },
  {
   "cell_type": "markdown",
   "id": "846af8df",
   "metadata": {},
   "source": [
    "In other languages you would have to **specify up front** (when defining the function) what kinds of data it expects.\n",
    "That's because many languages are _type safe_, meaning that before any code is run that code is checked for things such as \"are the arguments to this function of the expected type\".\n",
    "\n",
    "This lets the compiler check for common kinds of bugs.\n",
    "It's really useful!\n",
    "But it doesn't work with Python's paradigm."
   ]
  },
  {
   "cell_type": "markdown",
   "id": "41b6d6b5",
   "metadata": {},
   "source": [
    "Instead Python use what is called _duck typing_:\n",
    "\n",
    "\"If it looks like a duck, swims like a duck, and quacks like a duck, then it probably is a duck.\"\n",
    "\n",
    "This means that, although an object knows which class made it initially,\n",
    "it doesn't know if it can be used a certain way until it tries."
   ]
  },
  {
   "cell_type": "markdown",
   "id": "4862b18e",
   "metadata": {},
   "source": [
    "Remember that our `add` function worked perfectly well when both arguments were `list`s.\n",
    "All that mattered was that the code ran as an expected."
   ]
  },
  {
   "cell_type": "markdown",
   "id": "42106599",
   "metadata": {},
   "source": [
    "## Recap\n",
    "\n",
    "Objects are bundles of data. You access that data with `.` (for properties and methods) or square-brackets for indexed data.\n",
    "\n",
    "Everything is an object, and you can nest objects. Even libraries (once imported) and functions are also are objects.\n",
    "\n",
    "Classes are ways to make objects.\n",
    "\n",
    "Python doesn't do any type-checking, instead using \"duck typing\"; if the object has the properties you need, then that's all that matters. "
   ]
  }
 ],
 "metadata": {
  "kernelspec": {
   "display_name": "Python 3 (ipykernel)",
   "language": "python",
   "name": "python3"
  },
  "language_info": {
   "codemirror_mode": {
    "name": "ipython",
    "version": 3
   },
   "file_extension": ".py",
   "mimetype": "text/x-python",
   "name": "python",
   "nbconvert_exporter": "python",
   "pygments_lexer": "ipython3",
   "version": "3.11.6"
  }
 },
 "nbformat": 4,
 "nbformat_minor": 5
}
