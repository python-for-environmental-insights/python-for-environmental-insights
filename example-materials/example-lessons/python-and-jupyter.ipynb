{
 "cells": [
  {
   "cell_type": "markdown",
   "metadata": {
    "editable": true,
    "slideshow": {
     "slide_type": ""
    },
    "tags": []
   },
   "source": [
    "# Python and Jupyter"
   ]
  },
  {
   "cell_type": "markdown",
   "metadata": {
    "editable": true,
    "slideshow": {
     "slide_type": ""
    },
    "tags": []
   },
   "source": [
    "Topics:\n",
    "  - Python's design decisions\n",
    "      - Interpreted\n",
    "      - Object-oriented\n",
    "  - What Jupyter adds\n",
    "\n",
    "Time: 5 minutes\n",
    "\n",
    "This notebook contains cells that intentionally throw errors."
   ]
  },
  {
   "cell_type": "markdown",
   "metadata": {
    "editable": true,
    "slideshow": {
     "slide_type": "slide"
    },
    "tags": []
   },
   "source": [
    "## Interpreted"
   ]
  },
  {
   "cell_type": "markdown",
   "metadata": {
    "editable": true,
    "slideshow": {
     "slide_type": ""
    },
    "tags": []
   },
   "source": [
    "As opposed to: Compiled"
   ]
  },
  {
   "cell_type": "markdown",
   "metadata": {
    "editable": true,
    "slideshow": {
     "slide_type": ""
    },
    "tags": []
   },
   "source": [
    "- To run Python code you need to have Python installed (the _Interpreter_)\n",
    "- It is possible, but unusual, to compile Python into an executable file"
   ]
  },
  {
   "cell_type": "markdown",
   "metadata": {
    "editable": true,
    "slideshow": {
     "slide_type": "slide"
    },
    "tags": []
   },
   "source": [
    "Pros:\n",
    "\n",
    "- Makes it quick and easy to iterate\n",
    "- Encourages sharing source code\n",
    "\n",
    "Cons:\n",
    "\n",
    "- Python is slow to run\n",
    "\n",
    "You're expected to take more time **writing** code than **running** it.\n",
    "\n",
    "You're expected to take more time **reading** code than **writing** it."
   ]
  },
  {
   "cell_type": "markdown",
   "metadata": {
    "editable": true,
    "slideshow": {
     "slide_type": "slide"
    },
    "tags": []
   },
   "source": [
    "## Object-oriented"
   ]
  },
  {
   "cell_type": "markdown",
   "metadata": {
    "editable": true,
    "slideshow": {
     "slide_type": ""
    },
    "tags": []
   },
   "source": [
    "Objects bundle data together under a single name.\n",
    "\n",
    "As opposed to: Functional (actually Python has features of both)\n",
    "\n",
    "- Python code is run line-by-line by the Interpreter\n",
    "- Everything in Python in an _object_\n",
    "\n",
    "Pros:\n",
    "\n",
    "- The code reads more like a recipe to follow than a maths theorem\n",
    "- (Sometimes that's a con, but for data science it's a pro)\n",
    "\n",
    "Cons:\n",
    "\n",
    "- It can be hard to keep track of _state_; things can change without you noticing\n",
    "- It's a lot harder to prove that your code works as intended\n",
    "\n",
    "More on all this later"
   ]
  },
  {
   "cell_type": "markdown",
   "metadata": {
    "editable": true,
    "slideshow": {
     "slide_type": ""
    },
    "tags": []
   },
   "source": [
    "### Line-by-line Interpretation"
   ]
  },
  {
   "cell_type": "code",
   "execution_count": 1,
   "metadata": {},
   "outputs": [
    {
     "name": "stdout",
     "output_type": "stream",
     "text": [
      "3\n",
      "True\n"
     ]
    }
   ],
   "source": [
    "x = 1\n",
    "\n",
    "# New we overwrite the value stored as `x`\n",
    "x = 2\n",
    "\n",
    "x = 3\n",
    "# What is x now?\n",
    "print(x)\n",
    "\n",
    "# How do we ask if things are equal?\n",
    "print(x==3)"
   ]
  },
  {
   "cell_type": "code",
   "execution_count": 3,
   "metadata": {},
   "outputs": [
    {
     "name": "stdout",
     "output_type": "stream",
     "text": [
      "4\n"
     ]
    }
   ],
   "source": [
    "# Will throw an Error\n",
    "\n",
    "# Python hasn't \"seen\" your definition of the function `square` yet.\n",
    "#print(square(2))\n",
    "\n",
    "def square(x):\n",
    "    \"\"\"Multiply x by itself.\"\"\"\n",
    "    return x*x\n",
    "\n",
    "# Make the first print statement a comment and run this cell again\n",
    "print(square(2))"
   ]
  },
  {
   "cell_type": "markdown",
   "metadata": {},
   "source": [
    "### Mutable State"
   ]
  },
  {
   "cell_type": "markdown",
   "metadata": {},
   "source": [
    "Python lets you alter data _inside_ an object."
   ]
  },
  {
   "cell_type": "code",
   "execution_count": 4,
   "metadata": {},
   "outputs": [
    {
     "name": "stdout",
     "output_type": "stream",
     "text": [
      "0\n",
      "[\"This isn't even a number any more\", 1, 2]\n"
     ]
    }
   ],
   "source": [
    "# Make a list of numbers, note the 0-indexing\n",
    "example_list = [0,1,2]\n",
    "print(example_list[0])\n",
    "\n",
    "# Change the first entry\n",
    "example_list[0] = \"This isn't even a number any more\"\n",
    "print(example_list)"
   ]
  },
  {
   "cell_type": "markdown",
   "metadata": {},
   "source": [
    "Some languages don't allow this, or have much stricter controls on how this can be done. Python is extremely relaxed."
   ]
  },
  {
   "cell_type": "markdown",
   "metadata": {},
   "source": [
    "Python lists are _heterogeneous_ (as opposed to _homogenous_) meaning they can hold different kinds of data in different positions.\n",
    "This is because everything in Python is an \"object\"."
   ]
  },
  {
   "cell_type": "markdown",
   "metadata": {
    "editable": true,
    "slideshow": {
     "slide_type": ""
    },
    "tags": []
   },
   "source": [
    "There's another notebook on objects, but first let's discuss Jupyter."
   ]
  },
  {
   "cell_type": "markdown",
   "metadata": {},
   "source": [
    "## Jupyter"
   ]
  },
  {
   "cell_type": "markdown",
   "metadata": {},
   "source": [
    "**Jupyter** is a _development environment_ for writing Python code.\n",
    "This file is a _notebook_, which is a file format for demarkating text and code into blocks called _cells_.\n",
    "\n",
    "You could achieve the same thing by writing all your code into a text file then saving it with the `.py` extension,\n",
    "and passing that to Python.\n",
    "\n",
    "Pros:\n",
    "\n",
    "- Literate Code: All these text cells add (markdown) documentation around your code\n",
    "- Persistent, recoverable, state\n",
    "- Uses your web-browser to display things\n",
    "\n",
    "Cons:\n",
    "\n",
    "- Extra set-up\n",
    "- Some extra subtleties that we'll get into"
   ]
  },
  {
   "cell_type": "code",
   "execution_count": 7,
   "metadata": {},
   "outputs": [
    {
     "name": "stdout",
     "output_type": "stream",
     "text": [
      "3\n"
     ]
    }
   ],
   "source": [
    "print(x)"
   ]
  },
  {
   "cell_type": "markdown",
   "metadata": {},
   "source": [
    "### Cells"
   ]
  },
  {
   "cell_type": "markdown",
   "metadata": {},
   "source": [
    "These blocks of text and code are each _cells_.\n",
    "Click code to edit it.\n",
    "Double-click text to edit the underling _markdown_.\n",
    "\n",
    "Markdown has _italics_, __bold__, [links, e.g. to python.org](https://www.python.org/), lists, and more (which we'll go into).\n",
    "\n",
    "If you're ever curious as to how we've achieved something, take a look at the cell. You see everything we've written."
   ]
  },
  {
   "cell_type": "code",
   "execution_count": 12,
   "metadata": {},
   "outputs": [
    {
     "name": "stdout",
     "output_type": "stream",
     "text": [
      "Should now be set\n"
     ]
    }
   ],
   "source": [
    "# You can run code cells in any order\n",
    "# This should error if run first\n",
    "\n",
    "print(variable_set_after_first_referenced)"
   ]
  },
  {
   "cell_type": "code",
   "execution_count": 9,
   "metadata": {},
   "outputs": [],
   "source": [
    "variable_set_after_first_referenced = \"Should now be set\""
   ]
  },
  {
   "cell_type": "markdown",
   "metadata": {},
   "source": [
    "There's a separate notebook on Jupyter idiosyncasies."
   ]
  },
  {
   "cell_type": "markdown",
   "metadata": {},
   "source": [
    "### Cell Output"
   ]
  },
  {
   "cell_type": "markdown",
   "metadata": {},
   "source": [
    "As you've seen, we get output printed underneath cells.\n",
    "By output we mean:\n",
    "\n",
    "- Things passed to the \"print\" command\n",
    "- Errors\n",
    "- If the last non-empty line of code is an expression (i.e. it has a value) then Jupyter _also_ prints its value"
   ]
  },
  {
   "cell_type": "markdown",
   "metadata": {},
   "source": [
    "The simplest kind of expressions is just a single variable or value"
   ]
  },
  {
   "cell_type": "code",
   "execution_count": 13,
   "metadata": {},
   "outputs": [
    {
     "data": {
      "text/plain": [
       "12"
      ]
     },
     "execution_count": 13,
     "metadata": {},
     "output_type": "execute_result"
    }
   ],
   "source": [
    "12"
   ]
  },
  {
   "cell_type": "code",
   "execution_count": 14,
   "metadata": {},
   "outputs": [
    {
     "data": {
      "text/plain": [
       "'Should now be set'"
      ]
     },
     "execution_count": 14,
     "metadata": {},
     "output_type": "execute_result"
    }
   ],
   "source": [
    "variable_set_after_first_referenced"
   ]
  },
  {
   "cell_type": "code",
   "execution_count": 15,
   "metadata": {},
   "outputs": [
    {
     "data": {
      "text/plain": [
       "3"
      ]
     },
     "execution_count": 15,
     "metadata": {},
     "output_type": "execute_result"
    }
   ],
   "source": [
    "# But we can make it more complicated\n",
    "example_list[1]+example_list[2]"
   ]
  },
  {
   "cell_type": "code",
   "execution_count": 16,
   "metadata": {},
   "outputs": [],
   "source": [
    "# Assignments are commands rather than expressions (in Python)\n",
    "# Since it isn't an expression there isn't any output\n",
    "x = 3"
   ]
  },
  {
   "cell_type": "code",
   "execution_count": 17,
   "metadata": {},
   "outputs": [],
   "source": [
    "# Other examples of commands include 'print', or defining a function\n",
    "def square(x):\n",
    "    \"\"\"Multiply x by itself.\"\"\"\n",
    "    return x*x"
   ]
  },
  {
   "cell_type": "markdown",
   "metadata": {},
   "source": [
    "`square` is now defined, but since it's a command it doesn't prompt an output for Jupyter to print."
   ]
  },
  {
   "cell_type": "markdown",
   "metadata": {},
   "source": [
    "Since everything in Python is an object, even functions, you can ask for the \"value\" of the object stored in the variable called `square`:"
   ]
  },
  {
   "cell_type": "code",
   "execution_count": 18,
   "metadata": {
    "editable": true,
    "scrolled": true,
    "slideshow": {
     "slide_type": ""
    },
    "tags": []
   },
   "outputs": [
    {
     "data": {
      "text/plain": [
       "<function __main__.square(x)>"
      ]
     },
     "execution_count": 18,
     "metadata": {},
     "output_type": "execute_result"
    }
   ],
   "source": [
    "square"
   ]
  },
  {
   "cell_type": "markdown",
   "metadata": {},
   "source": [
    "## Recap\n",
    "\n",
    "Python interprets your code, rather than compiling it.\n",
    "\n",
    "Python works line-by-line.\n",
    "\n",
    "Python stores data in objects, and you can alter the contents of objects.\n",
    "\n",
    "Jupyter is a front-end for passing code cells to the kernel,\n",
    "and reporting the response back to you.\n",
    "\n",
    "Jupyter keeps Python running in the background, and has a persistent internal state.\n"
   ]
  }
 ],
 "metadata": {
  "kernelspec": {
   "display_name": "Python 3 (ipykernel)",
   "language": "python",
   "name": "python3"
  },
  "language_info": {
   "codemirror_mode": {
    "name": "ipython",
    "version": 3
   },
   "file_extension": ".py",
   "mimetype": "text/x-python",
   "name": "python",
   "nbconvert_exporter": "python",
   "pygments_lexer": "ipython3",
   "version": "3.11.6"
  }
 },
 "nbformat": 4,
 "nbformat_minor": 4
}
